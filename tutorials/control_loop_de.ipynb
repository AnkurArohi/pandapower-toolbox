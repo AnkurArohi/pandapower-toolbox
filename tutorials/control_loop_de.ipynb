{
 "cells": [
  {
   "cell_type": "markdown",
   "metadata": {},
   "source": [
    "# Einführung in das Control-Modul von pandapower"
   ]
  },
  {
   "cell_type": "markdown",
   "metadata": {},
   "source": [
    "Das Control-Modul in pandapower ermöglicht es Ihnen, einzelne Komponenten innerhalb eines Stromnetzes anzupassen, zu regeln und zu manipulieren. Die Möglichkeiten hierbei sind vielfältig und unerliegen rein Ihrer Vorstellungskraft. Sie reichen von einfachen Reglern, die es bspw. ermöglichen im Zuge einer Zeitreihensimulation die Einträge von Lasten, Einspeiser oder Speichern anzupassen und zu manipulieren, über betriebsmittelspezifische Regelungen wie Stufensteller bis hin zu komplexen Regler, die die verschiedenen Flexibilitäten innerhalb eines Stromnetzes ansteuern. \n",
    "\n",
    "Dieses Tutorial soll Ihnen dabei helfen, ein grundlegendes Verständnis des Control-Moduls zu erhalten und Sie damit in die Lage versetzen, wie Sie das Control-Modul für Ihre Zwecke verwenden können."
   ]
  },
  {
   "cell_type": "markdown",
   "metadata": {},
   "source": [
    "## Struktur des Control-Moduls"
   ]
  },
  {
   "cell_type": "markdown",
   "metadata": {},
   "source": [
    "Das Controll-Modul ist im Vergleich zu den anderen Komponenten, aus denen sich ein Stromnetz aufbaut, eher ein Exokt. Denn anderes als bei allen anderen Komponenten mussten wir bei den Reglern einsehen, dass es hier weniger sinnvoll ist, von der klassischen Tabellen-Struktur auszugehen und zu versuchen, die Regler in eine fixe Struktur einzubetten. Anders gesagt: Während Busse und Leitungen immer von fixen Größen abhängen, so gilt das im Falle von Reglern nicht: Regler sind ungemein flexibel. Was zum einen deren Stärke ist (die Möglichkeiten sind hier grenzenlos), sorgt zum anderen für den Verlust der übersichtlichen Tabellenstruktur, die Sie von den anderen bereits kennengelernten Komponenten kennen.\n",
    "\n",
    "Das soll allerdings nicht davon abhalten, unser Control-Modul nach Ihrem Belieben einzusetzen. Hierzu haben wir versucht, es so strukturiert wie möglich zu gestalten, damit Sie sich schnell zurecht finden und ohne Probleme Ihre eigenen Regler basteln können.\n",
    "\n",
    "### Netz-Einbettung der Regler\n",
    "\n",
    "Jeder Regler, der in ein pandapower-Netz integriert wird, ist ein Objekt. Jedes Regler-Objekt basiert auf der abstrakten Klasse Controller in der basic_controller.py. Für einen Regler wird immer ein Netz benötigt, dem der Regler zugeordnet ist. "
   ]
  },
  {
   "cell_type": "code",
   "execution_count": null,
   "metadata": {},
   "outputs": [],
   "source": [
    "import pandapower as pp\n",
    "\n",
    "net = pp.create_empty_network()"
   ]
  },
  {
   "cell_type": "markdown",
   "metadata": {},
   "source": [
    "Der Basiscontroller braucht als externe Variable lediglich das Netz:"
   ]
  },
  {
   "cell_type": "code",
   "execution_count": null,
   "metadata": {},
   "outputs": [],
   "source": [
    "from pandapower.control.basic_controller import Controller"
   ]
  },
  {
   "cell_type": "code",
   "execution_count": null,
   "metadata": {},
   "outputs": [],
   "source": [
    "basic_control = Controller(net)"
   ]
  },
  {
   "cell_type": "markdown",
   "metadata": {},
   "source": [
    "Ein Blick auf die einzelnen Attribute verrät, was elementare Teile eines jeden Reglers sind:"
   ]
  },
  {
   "cell_type": "code",
   "execution_count": null,
   "metadata": {},
   "outputs": [],
   "source": [
    "basic_control.__dict__\n"
   ]
  },
  {
   "cell_type": "markdown",
   "metadata": {},
   "source": [
    "Das Attribut 'recycle' sollten Sie nur ändern, wenn Sie wirklich wissen, was Sie tun. Hierbei geht es um die Beschleunigung bei aufeinderfolgenden Simulationen wie bspw. Zeitreihensimulationen. \n",
    "\n",
    "Die Flag 'recycle' zeigt an, ob bei jeder einzelnen Simulation die Jacobimatrix neu aufgebaut werden muss (recycle = False) oder nicht. Sind Sie sich also ABSOLUT sicher, dass sich die Struktur Ihres Netzes nicht verändert, sondern letztlich nur die Werte innerhalb der Jacobimatrix angepasst werden müssen, dann können Sie, um Ihre Berechnungen zu boosten, 'recycle' auf True setzen. Doch Obacht, schnell kann hier etwas schief gehen und folgich Ihre Ergebnisse überhaupt nicht das zurückspielen, was Sie eigentlich beabsichtigt hatten.\n",
    "\n",
    "Das Attribut 'initial_run' gibt an, ob vor der eigentlichen Regelung ein Lastfluss durchgeführt werden muss (initial_run = True) oder nicht. Das ist bspw. relevant, wenn der Regler Werte aus den Lastflussergebnissen als Input benötigt.\n",
    "\n",
    "Der 'index' ist die Indizierung innerhalb des Netzes, sozusagen, der Ort, wo Sie unter net.controller Ihren Regler wiederfinden. Bei dem Speicherort handelt es sich um ein pandas-DataFrame."
   ]
  },
  {
   "cell_type": "code",
   "execution_count": null,
   "metadata": {
    "scrolled": true
   },
   "outputs": [],
   "source": [
    "net.controller"
   ]
  },
  {
   "cell_type": "markdown",
   "metadata": {},
   "source": [
    "Den Index finden Sie wieder am Anfang einer jeden Zeile. Dieser wird automatisch zugewiesen, kann aber auch von Ihnen individuell festgelegt werden. Des Weiteren finden Sie hier weitere wichtige Informationen:\n",
    "\n",
    "Die Information 'in_service' gibt Ihnen die Möglichkeit, einen Regler jeder Zeit zu ignorieren, ohne ihn löschen zu müssen. \n",
    "\n",
    "'order' und 'level' wiederum sind am besten grafisch erklärt. \n",
    "Angenommen Sie haben 5 Regler:\n",
    "\n",
    "<img src=\"pics/controller.jpg\" style=\"width: 1000px;\"/>\n",
    "\n",
    "Entsprechend ihres 'level' und ihrer 'order' werden diese nun in eine Reihenfolge gebracht. Wichtig hierbei, je höher 'level' und 'order' sind, desto später werden die Regler aktiv, d.h. Regler mit einer höheren 'level' und 'order' sind wichtiger, da sie auf die Regelung eines zuvor ausgeführten Reglers reagieren können. Am Beispiel von oben sähe das folgendermaßen aus:\n",
    "\n",
    "<img src=\"pics/controller_structure.jpg\" style=\"width: 600px;\"/>\n",
    "\n",
    "\n",
    "Regler innerhalb eines 'level' müssen stets alle konvergieren. Regler in unterschiedlichen 'level' sind unabhägnig voneinander. Ein Beispiel würde folgendermaßen aussehen. Angenommen es gäbe zwei Stufenregler, die auf die Spannung eines bestimmten Knotens regeln. Der eine Regler möchte, dass die Spannung an diesem Knoten stets unter 1 p.u. ist, während der andere genau das Gegenteil möchte. Auch wenn dieses Beispiel wohl kaum in der Realität zu finden ist, veranschaulicht es doch recht gut, den Unterschied zwischen 'level' und 'order'. Wären beide Regler im selben 'level', würde die Reglerschleife niemals konvergieren, da die Bedingungen beider Regler niemals erfüllt sein können. Wäre nun allerdings einer der Regler in einem höheren 'level', würde jede einzelne Reglerschleife wiederum problemlos eine Lösung finde, da diese beiden Regler unabhängig voneinander sind. Der eine Regler würde bspw. in seinem 'level' die Spannung unter 1 p.u. drücken, während der zweite das dann in seinem 'level' wieder rückgängig machen würde. \n",
    "\n",
    "### Grundsätzlicher Aufbau eines jeden Reglers\n",
    "\n",
    "Die wichtigsten Funktionen eines jeden Reglers sind die folgenden:\n",
    "- intialize_control\n",
    "- control_step\n",
    "- repair_control\n",
    "- finalize_control\n",
    "\n",
    "Jede dieser vier Funktionen sind letztlich für die Regelung relevant und beschreiben das Verhalten des Reglers im Netz. 'initialize_control' wird zu Beginn aufgerufen, bevor die Reglerschleifen durchlaufen werden. Bspw. könnten hier die intialen Werte von P und Q einer bestimmten Last/Einspeisung abgerufen werden. Der 'control_step' beschreibt die eigentliche Regelverhalten des Reglers. 'repair_control' ermöglicht es Ihnen, sollte aufgrund der Regelung das Netz nicht konvergieren, einmalig je Regelkreis eine Korrektur vorzunehmen. Bspw. könnte hier der Umgang mit auftretenden NaN-Werten beschrieben werden. 'finalize_control' wird zum Schluss durchgeführt. Ein typischen Beispiel ist hier, die converged-Flag wieder auf False zu setzen, damit im darauf anschließenden Regelkreis der Regler nicht aus Versehen ingoriert wird.\n",
    "\n",
    "Weitere relevante Funktionen sind:\n",
    "- is_converged\n",
    "- set_recycle\n",
    "\n",
    "'is_converged' beschreibt, unter welchen Bedingungen der Regler sich eingependelt hat, d.h. konvergiert ist. 'set_recycle' definiert, inwieweit die Jacobimatrix in aufeinanderfolgenden Reglerschleifen wiederverwendet werden darf.\n",
    "\n",
    "Eine weitere wichtige Funktion ist time_step. Diese ist allerdings erst für die Zeitreihensimulation relevant und aus diesem Grund sei an dieser Stelle auf das Zeitreihensimulationstutorial verwiesen.\n",
    "\n",
    "Dies sind die primär relevanten Funktionen eines jeden Reglers. Möchten Sie selbst einen Regler bauen, so müssen Sie stets diese Funktionen mitdenken."
   ]
  },
  {
   "cell_type": "markdown",
   "metadata": {},
   "source": [
    "## Benutzung des Control-Moduls"
   ]
  },
  {
   "cell_type": "markdown",
   "metadata": {},
   "source": [
    "Dieses Beispiel, dass Ihnen das Control-Modul näher bringen soll, verwendet den Stufenregler (TapControl). Hierfür müssen Sie zunächst einmal das MV-Oberrehin-Netz, das zwei 110/220 kV Trafos enthält, laden:"
   ]
  },
  {
   "cell_type": "code",
   "execution_count": null,
   "metadata": {},
   "outputs": [],
   "source": [
    "import pandapower as pp\n",
    "from pandapower.networks import mv_oberrhein\n",
    "\n",
    "net = mv_oberrhein()\n",
    "net.trafo"
   ]
  },
  {
   "cell_type": "markdown",
   "metadata": {},
   "source": [
    "Hier sehen Sie nun beide Trafos mit all ihren Eigenschaften. \n",
    "\n",
    "Als nächstes sollten Sie einmal einen Lastfluss rechnen, um zu sehen, welche Spannung ober- und unterseitig vom Trafo herrschen. Dies machen Sie über den Befehl pp.runpp(net). Lassen Sie sich direkt danach die Ergebnisse ausgeben: Einmal oberspannungsseitig (wenig spannend, da hier der Slack hängt) ..."
   ]
  },
  {
   "cell_type": "code",
   "execution_count": null,
   "metadata": {},
   "outputs": [],
   "source": [
    "pp.runpp(net)\n",
    "net.res_trafo.vm_hv_pu"
   ]
  },
  {
   "cell_type": "markdown",
   "metadata": {},
   "source": [
    "... und einmal unterspannungsseitig:"
   ]
  },
  {
   "cell_type": "code",
   "execution_count": null,
   "metadata": {},
   "outputs": [],
   "source": [
    "net.res_trafo.vm_lv_pu"
   ]
  },
  {
   "cell_type": "markdown",
   "metadata": {},
   "source": [
    "Was Sie zudem an der net.trafo-Ausgabe sehen können: Beide Trafos enthalten einen Stufenstellen, die in der neutralen Position in der Stufe 0 sind und um 9 Stufen nach unten und nach oben verändert werden können.\n",
    "In unserem Fall befinden sich beide Stufensteller in folgenden Positionen:\n"
   ]
  },
  {
   "cell_type": "code",
   "execution_count": null,
   "metadata": {},
   "outputs": [],
   "source": [
    "net.trafo['tap_pos']"
   ]
  },
  {
   "cell_type": "markdown",
   "metadata": {},
   "source": [
    "Die Stufensteller-Position verändert sich innerhalb eines Lastflusses nicht. Allerdings ist es möglich, mithilfe der Stufenregler das Ergebnis des Lastflusses in Abhängigkeit von der Knotenspannung unter- oder oberspannungseitig im Vorhinen zu beeinflussen."
   ]
  },
  {
   "cell_type": "markdown",
   "metadata": {},
   "source": [
    "### Diskrete Stufenregler\n"
   ]
  },
  {
   "cell_type": "markdown",
   "metadata": {},
   "source": [
    "Dem diskrete Stufenregler (DiscreteTapControl) in pandapower wird zunächst die id des Trafos übergeben, der geregelt werden soll. Voreingestellt ist, dass die Spannung unterspannungsseitig überprüft wird. Des Weiteren wird ein Totband übergeben, in dem sich die Spannung an einem bestimmten Knoten bewegen darf. In unserem Fall definieren wir für den ersten Trafo im Oberrhein-Netz ein Totband von 0.99 und 1.01 p.u."
   ]
  },
  {
   "cell_type": "code",
   "execution_count": null,
   "metadata": {},
   "outputs": [],
   "source": [
    "import pandapower.control as control\n",
    "trafo_controller = control.DiscreteTapControl(net=net, tid=114, vm_lower_pu=0.99, vm_upper_pu=1.01)"
   ]
  },
  {
   "cell_type": "markdown",
   "metadata": {},
   "source": [
    "Wie oben bereits erwähnt, wird auch dieser Regler automatisch im Netz registriert:"
   ]
  },
  {
   "cell_type": "code",
   "execution_count": null,
   "metadata": {},
   "outputs": [],
   "source": [
    "net.controller"
   ]
  },
  {
   "cell_type": "markdown",
   "metadata": {},
   "source": [
    "Um die Regler zu aktivieren, müssen nun beim Aufruf von pp.runpp run_control = True gesetzt werden. Ein Blick auf die Erbenisse am Trafo unterspannungsseitig verrät, inwieweit die Regler aktiv geworden sind:"
   ]
  },
  {
   "cell_type": "code",
   "execution_count": null,
   "metadata": {},
   "outputs": [],
   "source": [
    "pp.runpp(net, run_control=True)\n",
    "net.res_trafo.vm_lv_pu"
   ]
  },
  {
   "cell_type": "markdown",
   "metadata": {},
   "source": [
    "Wie man erkennen kann, hat sich die Spannung verringert und bewegt sich nun im vorgegeben Bereich. Überprüfen wir zudem die Position der Schalterstellung, so kann man feststellen, dass sich die Position von -2 auf -1 verändert hat"
   ]
  },
  {
   "cell_type": "code",
   "execution_count": null,
   "metadata": {},
   "outputs": [],
   "source": [
    "net.trafo['tap_pos']"
   ]
  },
  {
   "cell_type": "markdown",
   "metadata": {},
   "source": [
    "### Kontinuierlicher Stufenregler"
   ]
  },
  {
   "cell_type": "markdown",
   "metadata": {},
   "source": [
    "Neben dem diskreten Trafo-Stufensteller gibt es auch die Möglichkeit, einen kontinuirlichen Stufenregler anzuwenden. Das Besondere hierbei ist, dass man keinen Spannungsbereich vorgeben muss, sondern dass eine exakt zu erreichende Spannung angeben wird (Ein Toleranzbereich 'tol' besagt hierbei nur, ab wann das Ergebnis genau genug ist und keine weitere Reglerschleife nötig ist). Konkret heißt das, dass angenommen wird, dass die Stufen eines Trafos nicht ganzzahlich sein müssen. In unserem Beispiel können Sie bspw. diesen Regler für den zweiten Trafo anwenden. "
   ]
  },
  {
   "cell_type": "code",
   "execution_count": null,
   "metadata": {},
   "outputs": [],
   "source": [
    "trafo_controller = control.ContinuousTapControl(net=net, tid=142, vm_set_pu=0.98, tol=1e-6)"
   ]
  },
  {
   "cell_type": "markdown",
   "metadata": {},
   "source": [
    "Wenn Sie nun einen Lastfluss mit aktivitierten Reglern durchführen, beträgt die Spannung unterspannungsseitig exakt 0.98 p.u.:"
   ]
  },
  {
   "cell_type": "code",
   "execution_count": null,
   "metadata": {},
   "outputs": [],
   "source": [
    "pp.runpp(net, run_control=True)\n",
    "net.res_trafo.vm_lv_pu"
   ]
  },
  {
   "cell_type": "markdown",
   "metadata": {},
   "source": [
    "Des Weiteren, wie zu erwarten war, ist die Stufensteller-Position nicht mehr ganzzahlig, sondern liegt bei etwa -0.07:"
   ]
  },
  {
   "cell_type": "code",
   "execution_count": null,
   "metadata": {},
   "outputs": [],
   "source": [
    "net.trafo['tap_pos']"
   ]
  },
  {
   "cell_type": "markdown",
   "metadata": {},
   "source": [
    "Auch wenn dieses Result so nicht in der Realität vorkommen kann, so kann es dennoch nüzlich sein, um bspw. in groß angelegten Studien große Ergebnissprünge zu vermeiden."
   ]
  },
  {
   "cell_type": "markdown",
   "metadata": {},
   "source": [
    "## Lessons learned\n",
    "\n",
    "Nach Abschluss dieses Tutorials:\n",
    "- haben Sie den Aufbau des Control-Moduls verstanden.\n",
    "- wissen Sie, welches die zentralen Bestandteile eines jeden Relgers sind.\n",
    "- kennen Sie den Unterschied zwischen level und order.\n",
    "- wissen Sie, welche Gefahren von recycle ausgehen.\n",
    "- können Sie einen einfachen Stufenregler in ein Netz einbetten. "
   ]
  },
  {
   "cell_type": "markdown",
   "metadata": {},
   "source": [
    "## Aufgabe\n",
    "1. Gehen Sie wieder vom MS Oberrhein-Netz aus. Bauen Sie nun einen zweiten zusätzlichen diskreten Stufenregler an den ersten Trafo mit den Grenzen (0.98, 0.995) ein. Was fällt Ihnen auf?\n",
    "\n",
    "2. Überlegen Sie sich eine Methode, wie Sie das Problem aus 1. lösen können. Beiden Reglern sollen weiterhin die gleichen Grenzen vorgegeben sein. Wichtig hierbei: Die Entscheidung von Regler 2 sind denen von Regler 1 vorzuziehen.\n"
   ]
  }
 ],
 "metadata": {
  "kernelspec": {
   "display_name": "Python 3",
   "language": "python",
   "name": "python3"
  },
  "language_info": {
   "codemirror_mode": {
    "name": "ipython",
    "version": 3
   },
   "file_extension": ".py",
   "mimetype": "text/x-python",
   "name": "python",
   "nbconvert_exporter": "python",
   "pygments_lexer": "ipython3",
   "version": "3.7.6"
  }
 },
 "nbformat": 4,
 "nbformat_minor": 4
}
