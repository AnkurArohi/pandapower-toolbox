{
 "cells": [
  {
   "cell_type": "markdown",
   "metadata": {
    "slideshow": {
     "slide_type": "-"
    }
   },
   "source": [
    "# pandapower-Netze modellieren"
   ]
  },
  {
   "cell_type": "markdown",
   "metadata": {
    "slideshow": {
     "slide_type": "skip"
    }
   },
   "source": [
    "Dieses Tutorial enthält eine Einführung in die pandapower-Datenstrukturen und zeigt, wie man mit Hilfe der pandapower-API ein Netzwerk modelliert. Das folgende Beispiel demonstriert den Einsatz der gängigsten Komponenten, die in pandapower verfügbar sind.\n",
    "\n",
    "<img src=\"pics/example_network_simple.png\">\n",
    "\n",
    "Die Datenstruktur der pandapower-Umgebung basiert auf der Python-Bibliothek pandas. Ein pandapower-Netzwerk besteht aus einer separaten Komponententabelle für jeden Komponententyp, der im Netzwerk eingesetzt wird. Tabellenspalten repräsentieren die Parameter der jeweiligen Komponente. \n",
    "\n",
    "Durch das Ausführen der folgenden Code-Zellen generieren Sie verschiedene Komponententabellen. Weitere Informationen zu den verwendeten Komponenten finden Sie in der pandapower-Dokumentation im Abschnitt \"Datastructures and Elements\".\n"
   ]
  },
  {
   "cell_type": "markdown",
   "metadata": {},
   "source": [
    "### Leeres Netzwerk"
   ]
  },
  {
   "cell_type": "markdown",
   "metadata": {},
   "source": [
    "Zunächst wird das pandapower-Modul importiert und anschließend ein leerer Netzcontainer erzeugt:"
   ]
  },
  {
   "cell_type": "code",
   "execution_count": null,
   "metadata": {
    "slideshow": {
     "slide_type": "fragment"
    }
   },
   "outputs": [],
   "source": [
    "import pandapower as pp #import pandapower\n",
    "\n",
    "net = pp.create_empty_network() #create an empty network"
   ]
  },
  {
   "cell_type": "markdown",
   "metadata": {
    "slideshow": {
     "slide_type": "slide"
    }
   },
   "source": [
    "### Buses"
   ]
  },
  {
   "cell_type": "markdown",
   "metadata": {},
   "source": [
    "<img src=\"pics/example_network_simple_buses.png\">\n",
    "\n",
    "Nun werden die Netzknoten generiert, die in pandapower als \"buses\" bezeichnet werden. Weitere Eingabeparameter sind die Nennspannungen an den Knoten (vn_kv), die gleichzeitig den Startwert für den zur Berechnung eingesetzten Newton-Raphson-Algorithmus darstellen. Ein Name kann zur besseren Lesbarkeit angegeben werden.\n",
    "\n",
    "Insgesamt werden drei Hochspannungsknoten (vn_kv=110.) und vier Mittelspannungsknoten (vn_kv=20.) benötigt. "
   ]
  },
  {
   "cell_type": "code",
   "execution_count": null,
   "metadata": {
    "scrolled": true,
    "slideshow": {
     "slide_type": "slide"
    }
   },
   "outputs": [],
   "source": [
    "bus1 = pp.create_bus(net, name=\"HV Busbar\", vn_kv=110, type=\"b\")\n",
    "bus2 = pp.create_bus(net, name=\"HV Busbar 2\", vn_kv=110, type=\"b\")\n",
    "bus3 = pp.create_bus(net, name=\"HV Transformer Bus\", vn_kv=110, type=\"n\")\n",
    "bus4 = pp.create_bus(net, name=\"MV Transformer Bus\", vn_kv=20, type=\"n\")\n",
    "bus5 = pp.create_bus(net, name=\"MV Main Bus\", vn_kv=20, type=\"b\")\n",
    "bus6 = pp.create_bus(net, name=\"MV Bus 1\", vn_kv=20, type=\"b\")\n",
    "bus7 = pp.create_bus(net, name=\"MV Bus 2\", vn_kv=20, type=\"b\")"
   ]
  },
  {
   "cell_type": "markdown",
   "metadata": {},
   "source": [
    "Bus 3 und Bus 4 wurden als \"nodes\" klassifiziert (type=\"n\"), alle anderen werden als \"busbars\" eingestuft (type=\"b\"):"
   ]
  },
  {
   "cell_type": "code",
   "execution_count": null,
   "metadata": {},
   "outputs": [],
   "source": [
    "net.bus # show bus table"
   ]
  },
  {
   "cell_type": "markdown",
   "metadata": {},
   "source": [
    "Alle create-Funktionen geben den pandapower-Index der erzeugten Komponente zurück. Variable bus6 entspricht damit dem Index des buses mit dem Namen \"MV Bus 1\" (welcher den Index 5 hat):\n"
   ]
  },
  {
   "cell_type": "code",
   "execution_count": null,
   "metadata": {},
   "outputs": [],
   "source": [
    "bus6"
   ]
  },
  {
   "cell_type": "markdown",
   "metadata": {},
   "source": [
    "Wir nutzen diese Variablen, um weitere bus- und branch-Elemente hinzuzufügen."
   ]
  },
  {
   "cell_type": "markdown",
   "metadata": {},
   "source": [
    "### External Grid"
   ]
  },
  {
   "cell_type": "markdown",
   "metadata": {},
   "source": [
    "<img src=\"pics/example_network_simple_ext_grid.png\">\n",
    "\n",
    "Jetzt wird eine External Grid-Verbindung erstellt, welche als slack-Knoten für die Lastflussberechnung fungiert. Die Spannung der External-Grid-Komponente wird auf 1.02 per unit gesetzt. Des Weiteren definieren wir einen Phasenwinkel von 50 Grad:"
   ]
  },
  {
   "cell_type": "code",
   "execution_count": null,
   "metadata": {},
   "outputs": [],
   "source": [
    "pp.create_ext_grid(net, bus1, vm_pu=1.02, va_degree=50) # Create an external grid connection\n",
    "\n",
    "net.ext_grid #show external grid table"
   ]
  },
  {
   "cell_type": "markdown",
   "metadata": {},
   "source": [
    "### Transformatoren "
   ]
  },
  {
   "cell_type": "markdown",
   "metadata": {},
   "source": [
    "<img src=\"pics/example_network_simple_trafo.png\">\n",
    "\n",
    "Der Transformator verbindet die Hochspannungs- mit der Mittelspannungsseite des Netzwerks. Der Hochspannungsbus des Transformators wird mit Bus 3 verbunden, während der Mittelspannungsbus mit Bus 4 verbunden ist. Wir wählen einen Transformatortyp aus der in pandapower enthaltenen Standardtypenbibliothek aus: 25 MVA 110/20 kV.\n"
   ]
  },
  {
   "cell_type": "code",
   "execution_count": null,
   "metadata": {},
   "outputs": [],
   "source": [
    "trafo1 = pp.create_transformer(net, bus3, bus4, name=\"110kV/20kV transformer\", std_type=\"25 MVA 110/20 kV\")"
   ]
  },
  {
   "cell_type": "markdown",
   "metadata": {},
   "source": [
    "Die detaillierten Trafo-Parameter, wie z.B. die Kurzschlussspannung, Nennleistung oder Eisenverluste, werden automatisch aus der Bibliothek geladen und in der Trafo-Tabelle gespeichert: \n"
   ]
  },
  {
   "cell_type": "code",
   "execution_count": null,
   "metadata": {
    "scrolled": true
   },
   "outputs": [],
   "source": [
    "net.trafo #show transformer table"
   ]
  },
  {
   "cell_type": "markdown",
   "metadata": {},
   "source": [
    "### Verbindungen"
   ]
  },
  {
   "cell_type": "markdown",
   "metadata": {},
   "source": [
    "Das Netzwerk beinhaltet drei Mittelspannungsverbindungen und eine Hochspannungsverbindung. Die Bus-Anbindungen und Kabellängen sind im Diagramm angegeben:\n",
    "\n",
    "<img src=\"pics/example_network_simple_lines.png\">"
   ]
  },
  {
   "cell_type": "markdown",
   "metadata": {},
   "source": [
    "Die Verbindungsparameter werden erneut aus der Standardbibliothek entnommen. Wir nutzen unterschiedliche Kabellängen und Standardtypen für jedes Kabel:"
   ]
  },
  {
   "cell_type": "code",
   "execution_count": null,
   "metadata": {},
   "outputs": [],
   "source": [
    "line1 = pp.create_line(net, bus1, bus2, length_km=10, std_type=\"N2XS(FL)2Y 1x300 RM/35 64/110 kV\",  name=\"Line 1\")\n",
    "line2 = pp.create_line(net, bus5, bus6, length_km=2.0, std_type=\"NA2XS2Y 1x240 RM/25 12/20 kV\", name=\"Line 2\")\n",
    "line3 = pp.create_line(net, bus6, bus7, length_km=3.5, std_type=\"48-AL1/8-ST1A 20.0\", name=\"Line 3\")\n",
    "line4 = pp.create_line(net, bus7, bus5, length_km=2.5, std_type=\"NA2XS2Y 1x240 RM/25 12/20 kV\", name=\"Line 4\")"
   ]
  },
  {
   "cell_type": "markdown",
   "metadata": {},
   "source": [
    "Anschließend sieht die Tabelle wie folgt aus:"
   ]
  },
  {
   "cell_type": "code",
   "execution_count": null,
   "metadata": {},
   "outputs": [],
   "source": [
    "net.line # show line table"
   ]
  },
  {
   "cell_type": "markdown",
   "metadata": {},
   "source": [
    "### Schalter"
   ]
  },
  {
   "cell_type": "markdown",
   "metadata": {},
   "source": [
    "Es gibt zwei Schalter, welche den Stromkreis unterbrechen können (je einen auf Hoch- und Mittelspannungsebene). Die Schalter sind zwischen Bus 4 und Bus 5 bzw. zwischen Bus 2 und Bus 3 platziert. Ein zwischen zwei Bussen eingesetzter Schalter wird mit dem Parameter et=\"b\" definiert.\n",
    "\n",
    "<img src=\"pics/example_network_simple_switches.png\">"
   ]
  },
  {
   "cell_type": "code",
   "execution_count": null,
   "metadata": {},
   "outputs": [],
   "source": [
    "sw1 = pp.create_switch(net, bus2, bus3, et=\"b\", type=\"CB\", closed=True)\n",
    "sw2 = pp.create_switch(net, bus4, bus5, et=\"b\", type=\"CB\", closed=True)"
   ]
  },
  {
   "cell_type": "markdown",
   "metadata": {},
   "source": [
    "Weiterhin werden alle Bus/Line-Verbindungen im Mittelspannungsnetz mit load-break-Schaltern versehen (\"LBS\"). Diese Art Schalter wird mit dem Parameter et=\"l\" versehen.\n"
   ]
  },
  {
   "cell_type": "code",
   "execution_count": null,
   "metadata": {},
   "outputs": [],
   "source": [
    "sw3 = pp.create_switch(net, bus5, line2, et=\"l\", type=\"LBS\", closed=True)\n",
    "sw4 = pp.create_switch(net, bus6, line2, et=\"l\", type=\"LBS\", closed=True)\n",
    "sw5 = pp.create_switch(net, bus6, line3, et=\"l\", type=\"LBS\", closed=True)\n",
    "sw6 = pp.create_switch(net, bus7, line3, et=\"l\", type=\"LBS\", closed=False)\n",
    "sw7 = pp.create_switch(net, bus7, line4, et=\"l\", type=\"LBS\", closed=True)\n",
    "sw8 = pp.create_switch(net, bus5, line4, et=\"l\", type=\"LBS\", closed=True)"
   ]
  },
  {
   "cell_type": "markdown",
   "metadata": {},
   "source": [
    "Die Tabelle der Schalter enthält nun alle definierten Komponenten. Die Spalte \"bus\" enthält den Index des Busses, an den der Schalter angeschlossen ist. Für Schalter des b-Typs enthält die Tabelle den Index des zweiten Buses. Im Falle des l-Typs enthält die Tabelle den Index der Verbindung, an welche der Schalter angeschlossen ist. Alle Schalter sind geschlossen.\n"
   ]
  },
  {
   "cell_type": "code",
   "execution_count": null,
   "metadata": {},
   "outputs": [],
   "source": [
    "net.switch # show switch table"
   ]
  },
  {
   "cell_type": "markdown",
   "metadata": {},
   "source": [
    "### Lasten\n",
    "\n",
    "<img src=\"pics/example_network_simple_load.png\">"
   ]
  },
  {
   "cell_type": "markdown",
   "metadata": {},
   "source": [
    "Das Last-Element wird genutzt um aktive und reaktve Verbraucher zu modellieren. Es wird eine 2 MW / 3MVar-Last mit einem Skalierungsfaktor von 0.6 erzeugt.\n"
   ]
  },
  {
   "cell_type": "code",
   "execution_count": null,
   "metadata": {},
   "outputs": [],
   "source": [
    "pp.create_load(net, bus7, p_mw=2, q_mvar=4, scaling=0.6, name=\"load\")\n",
    "\n",
    "net.load"
   ]
  },
  {
   "cell_type": "markdown",
   "metadata": {},
   "source": [
    "#### Spannungsabhängige Lasten - ZIP-Lastmodell\n",
    "\n",
    "Man kann die Parameter `const_z_percent` und `const_i_percent` bei Lasten anpassen, die allerdings standardmäßig zu 0 gesetzt sind. Sie können eingesetzt werden, um einen spannungsabhängigen Lastanteil zu definieren. Dazu wird ein sogenanntes **ZIP load**-Modell verwendet, welches die Last als Kombination aus konstanter Leistung, konstantem Strom und konstanter Impedanz beschreibt.\n",
    "\n",
    "Exemplarisch wird eine 2 MW/4 MVar-Last mit 30% konstanter Impedanz und 20% konstantem Strom erzeugt:"
   ]
  },
  {
   "cell_type": "code",
   "execution_count": null,
   "metadata": {},
   "outputs": [],
   "source": [
    "pp.create_load(net, bus7, p_mw=2, q_mvar=4, const_z_percent=30, const_i_percent=20, name=\"zip_load\")\n",
    "\n",
    "net.load"
   ]
  },
  {
   "cell_type": "markdown",
   "metadata": {},
   "source": [
    "### Statischer Generator\n",
    "\n",
    "<img src=\"pics/example_network_simple_sgen.png\">"
   ]
  },
  {
   "cell_type": "markdown",
   "metadata": {},
   "source": [
    "Der statische Generator wird genutzt, um aktive und reaktive Generatoren mit konstanter Leistung zu modellieren. Weil das Vorzeichensystem von pandapower immer die Sicht des Verbrauchers beschreibt, ist die aktive Leistung negativ, wenn Leistung erzeugt wird. Im Beispiel wird ein statischer Generator mit einer Leistung von 2 MW / 500 kVar genutzt.\n"
   ]
  },
  {
   "cell_type": "code",
   "execution_count": null,
   "metadata": {},
   "outputs": [],
   "source": [
    "pp.create_sgen(net, bus7, p_mw=2, q_mvar=-0.5, name=\"static generator\")\n",
    "\n",
    "net.sgen"
   ]
  },
  {
   "cell_type": "markdown",
   "metadata": {},
   "source": [
    "### Spannungsgeregelter Generator\n",
    "\n",
    "<img src=\"pics/example_network_simple_gen.png\">"
   ]
  },
  {
   "cell_type": "markdown",
   "metadata": {},
   "source": [
    "Die Generator-Komponente wird genutzt, um die konstante, spannungsgeregelte Generierung von Leistung zu modellieren. Der Generator wird mit einem Arbeitspunkt für die Spannung definiert:\n"
   ]
  },
  {
   "cell_type": "code",
   "execution_count": null,
   "metadata": {},
   "outputs": [],
   "source": [
    "pp.create_gen(net, bus6, p_mw=6, max_q_mvar=3, min_q_mvar=-3, vm_pu=1.03, name=\"generator\") \n",
    "\n",
    "net.gen"
   ]
  },
  {
   "cell_type": "markdown",
   "metadata": {},
   "source": [
    "### Shunt"
   ]
  },
  {
   "cell_type": "markdown",
   "metadata": {
    "collapsed": true
   },
   "source": [
    "\n",
    "<img src=\"pics/example_network_simple_shunt.png\">"
   ]
  },
  {
   "cell_type": "markdown",
   "metadata": {},
   "source": [
    "Ein shunt wird über dessen aktiven und reaktiven Verbrauch bei der Nennleistung charakterisiert. Zur Erinnerung: Das Vorzeichensystem basiert auf der Verbrauchersicht. Es wird eine Kapazitätsbank modelliert, weshalb die definierte reaktive Last negativ ist:\n",
    " "
   ]
  },
  {
   "cell_type": "code",
   "execution_count": null,
   "metadata": {},
   "outputs": [],
   "source": [
    "pp.create_shunt(net, bus3, q_mvar=-0.96, p_mw=0, name='Shunt')\n",
    "\n",
    "net.shunt"
   ]
  },
  {
   "cell_type": "markdown",
   "metadata": {},
   "source": [
    "Die Berechnung kann jetzt gestartet werden:"
   ]
  },
  {
   "cell_type": "code",
   "execution_count": null,
   "metadata": {},
   "outputs": [],
   "source": [
    "pp.runpp(net)"
   ]
  },
  {
   "cell_type": "markdown",
   "metadata": {},
   "source": [
    "Nach der Berechnung werden dem Netz-Container Ergebnistabellen hinzugefügt, die wie folgt abgerufen werden können:"
   ]
  },
  {
   "cell_type": "code",
   "execution_count": null,
   "metadata": {},
   "outputs": [],
   "source": [
    "net.res_line"
   ]
  },
  {
   "cell_type": "markdown",
   "metadata": {},
   "source": [
    "### Lessons learned"
   ]
  },
  {
   "cell_type": "markdown",
   "metadata": {},
   "source": [
    "Nach dem Durcharbeiten des Tutorials sollten Sie wissen:\n",
    "    \n",
    "- welche Schritte vor einer Berechnung durchzuführen sind\n",
    "- welche Komponenten von pandapower zur Verfügung gestellt werden\n",
    "- dass es eine Komponentenbibliothek in pandapower gibt\n",
    "- mit welchem Befehl eine Berechnung gestartet wird und\n",
    "- wie man Ergebnisse auswertet"
   ]
  }
 ],
 "metadata": {
  "anaconda-cloud": {},
  "kernelspec": {
   "display_name": "Python 3",
   "language": "python",
   "name": "python3"
  },
  "language_info": {
   "codemirror_mode": {
    "name": "ipython",
    "version": 3
   },
   "file_extension": ".py",
   "mimetype": "text/x-python",
   "name": "python",
   "nbconvert_exporter": "python",
   "pygments_lexer": "ipython3",
   "version": "3.7.6"
  }
 },
 "nbformat": 4,
 "nbformat_minor": 1
}
